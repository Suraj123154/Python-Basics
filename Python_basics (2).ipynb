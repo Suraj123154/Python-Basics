{
  "nbformat": 4,
  "nbformat_minor": 0,
  "metadata": {
    "colab": {
      "provenance": []
    },
    "kernelspec": {
      "name": "python3",
      "display_name": "Python 3"
    },
    "language_info": {
      "name": "python"
    }
  },
  "cells": [
    {
      "cell_type": "markdown",
      "source": [
        "#Python Basics"
      ],
      "metadata": {
        "id": "_9cTZtF-jzZ3"
      }
    },
    {
      "cell_type": "markdown",
      "source": [
        " 1- Write a Python program to print \"Hello, World!\"\n"
      ],
      "metadata": {
        "id": "7YWv35jME2bO"
      }
    },
    {
      "cell_type": "code",
      "source": [
        "print(\"Hello, World!\")"
      ],
      "metadata": {
        "colab": {
          "base_uri": "https://localhost:8080/"
        },
        "id": "QccbURihFEtA",
        "outputId": "adda30c3-5fc6-45e9-9230-52140cfbc368"
      },
      "execution_count": 1,
      "outputs": [
        {
          "output_type": "stream",
          "name": "stdout",
          "text": [
            "Hello, World!\n"
          ]
        }
      ]
    },
    {
      "cell_type": "markdown",
      "source": [
        "2 -Write a Python program that displays your name and age"
      ],
      "metadata": {
        "id": "LMsDWaHLFUhj"
      }
    },
    {
      "cell_type": "code",
      "source": [
        "Name=\"suraj\"\n",
        "Age=\"26\"\n",
        "print(Name)\n",
        "print(Age)"
      ],
      "metadata": {
        "colab": {
          "base_uri": "https://localhost:8080/"
        },
        "id": "wsODa8tBFjSc",
        "outputId": "99efeed3-e00a-4876-e753-f6a73211ceda"
      },
      "execution_count": 7,
      "outputs": [
        {
          "output_type": "stream",
          "name": "stdout",
          "text": [
            "suraj\n",
            "26\n"
          ]
        }
      ]
    },
    {
      "cell_type": "markdown",
      "source": [
        "3- Write code to print all the pre-defined keywords in Python using the keyword library."
      ],
      "metadata": {
        "id": "nM61YLShGnd9"
      }
    },
    {
      "cell_type": "code",
      "source": [
        "#Import the keyword library\n",
        "import keyword\n",
        "\n",
        "#Get the list of all python keywords\n",
        "keywords_list = keyword.kwlist\n",
        "#Print all keywords\n",
        "print(\"Python Keywords:\")\n",
        "for kw in keywords_list:\n",
        "  print(kw)"
      ],
      "metadata": {
        "colab": {
          "base_uri": "https://localhost:8080/"
        },
        "id": "JKymnih6JCf5",
        "outputId": "dd77896a-8c33-4bf3-bf59-15b698a5bf20"
      },
      "execution_count": 18,
      "outputs": [
        {
          "output_type": "stream",
          "name": "stdout",
          "text": [
            "Python Keywords:\n",
            "False\n",
            "None\n",
            "True\n",
            "and\n",
            "as\n",
            "assert\n",
            "async\n",
            "await\n",
            "break\n",
            "class\n",
            "continue\n",
            "def\n",
            "del\n",
            "elif\n",
            "else\n",
            "except\n",
            "finally\n",
            "for\n",
            "from\n",
            "global\n",
            "if\n",
            "import\n",
            "in\n",
            "is\n",
            "lambda\n",
            "nonlocal\n",
            "not\n",
            "or\n",
            "pass\n",
            "raise\n",
            "return\n",
            "try\n",
            "while\n",
            "with\n",
            "yield\n"
          ]
        }
      ]
    },
    {
      "cell_type": "markdown",
      "source": [
        "4- Write a program that checks if a given word is a Python keyword.\n"
      ],
      "metadata": {
        "id": "LKWDT_QvJHuC"
      }
    },
    {
      "cell_type": "code",
      "source": [
        "#Get input from the user\n",
        "word = input(\"Enter a word: \")\n",
        "\n",
        "#Check if the word is a Python keyword\n",
        "if keyword.iskeyword(word):\n",
        "  print(f\"{word} is a Python keyword.\")\n",
        "else:\n",
        "  print(f\"{word} is not a Python keyword.\")\n"
      ],
      "metadata": {
        "colab": {
          "base_uri": "https://localhost:8080/"
        },
        "id": "rcBxE5pLKMrM",
        "outputId": "716ca90c-d0f4-4eb0-9e44-040e76aa9faa"
      },
      "execution_count": 19,
      "outputs": [
        {
          "output_type": "stream",
          "name": "stdout",
          "text": [
            "Enter a word: for\n",
            "for is a Python keyword.\n"
          ]
        }
      ]
    },
    {
      "cell_type": "markdown",
      "source": [
        "5. Create a list and tuple in Python, and demonstrate how attempting to change an element works differently\n",
        "for each."
      ],
      "metadata": {
        "id": "uyF8aqacKs5o"
      }
    },
    {
      "cell_type": "code",
      "source": [
        "# a list and tuple in Python\n",
        "my_list = [1, 2, 3]\n",
        "my_tuple = (1, 2, 3)\n",
        "\n",
        "# Try to change the third element (index 2) in the list\n",
        "my_list[2] = 4\n",
        "\n",
        "# Attempting to change an element in a tuple will raise a TypeError\n",
        "# This line is commented out to prevent the error and show the difference\n",
        "# my_tuple[2] = 4\n",
        "\n",
        "print(my_list)\n",
        "print(my_tuple)"
      ],
      "metadata": {
        "colab": {
          "base_uri": "https://localhost:8080/"
        },
        "id": "P0qwW5WDKvsf",
        "outputId": "903ee484-9f6a-4253-8023-ae3bc11bb6aa"
      },
      "execution_count": 21,
      "outputs": [
        {
          "output_type": "stream",
          "name": "stdout",
          "text": [
            "[1, 2, 4]\n",
            "(1, 2, 3)\n"
          ]
        }
      ]
    },
    {
      "cell_type": "markdown",
      "source": [
        "6- Write a function to demonstrate the behavior of mutable and immutable arguments."
      ],
      "metadata": {
        "id": "0wGY66fmM25y"
      }
    },
    {
      "cell_type": "code",
      "source": [
        "# A function to demonstrate the behaviour of mutable and immutable arguments\n",
        "def modify_args(mutable_arg, immutable_arg):\n",
        "  # Modify the mutable argument (list)\n",
        "  mutable_arg.append(4)\n",
        "  # Attempting to modify the immutable argument (tuple) will raise a TypeError\n",
        "  # This line is commented out to prevent the error and show the difference\n",
        "  # immutable_arg.append(4)\n",
        "  print(\"Inside the function:\")\n",
        "  print(\"Mutable argument (list):\", mutable_arg)\n",
        "  print(\"Immutable argument (tuple):\", immutable_arg)"
      ],
      "metadata": {
        "id": "r8yxVLGLM6mp"
      },
      "execution_count": null,
      "outputs": []
    },
    {
      "cell_type": "markdown",
      "source": [
        "7- Write a program that performs basic arithmetic operations on two user-input numbers.\n",
        "\n"
      ],
      "metadata": {
        "id": "t7dvliVuNgE5"
      }
    },
    {
      "cell_type": "code",
      "source": [
        "#Get input from the user\n",
        "num1 = float(input(\"Enter the first number: \"))\n",
        "num2 = float(input(\"Enter the second number: \"))\n",
        "\n",
        "# Perform arithmetic operations\n",
        "sum_result = num1 + num2\n",
        "difference_result = num1 - num2\n",
        "product_result = num1 * num2\n",
        "\n",
        "# Check if num2 is not zero to avoid division by zero error\n",
        "if num2 != 0:\n",
        "  quotient_result = num1 / num2\n",
        "  print(\"Quotient:\", quotient_result)\n",
        "else:\n",
        "  print(\"Cannot calculate quotient as the second number is zero.\")\n",
        "\n",
        "# Print the results\n",
        "print(\"Sum:\", sum_result)\n",
        "print(\"Difference:\", difference_result)\n",
        "print(\"Product:\", product_result)"
      ],
      "metadata": {
        "id": "61HBfbKofizB"
      },
      "execution_count": null,
      "outputs": []
    },
    {
      "cell_type": "markdown",
      "source": [
        "8- Write a program to demonstrate the use of logical operators."
      ],
      "metadata": {
        "id": "6Awxh08rN4Bi"
      }
    },
    {
      "cell_type": "code",
      "source": [
        "# Get input from the user\n",
        "num1 = float(input(\"Enter the first number: \"))\n",
        "num2 = float(input(\"Enter the second number: \"))\n",
        "\n",
        "# Check if both numbers are positive\n",
        "if num1 > 0 and num2 > 0:\n",
        "  print(\"Both numbers are positive.\")\n",
        "  # Check if at least one number is negative\n",
        "  if num1 < 0 or num2 < 0:\n",
        "    print(\"At least one number is negative.\")\n",
        "  else:\n",
        "    print(\"No negative numbers.\")\n",
        "else:\n",
        "  print(\"Both numbers are not positive.\")"
      ],
      "metadata": {
        "id": "bKrJsh_3gGGW"
      },
      "execution_count": null,
      "outputs": []
    },
    {
      "cell_type": "markdown",
      "source": [
        "9- Write a Python program to convert user input from string to integer, float, and boolean types."
      ],
      "metadata": {
        "id": "VGl6iBSGPqBK"
      }
    },
    {
      "cell_type": "code",
      "source": [
        "#Program to convert user input from string to integer\n",
        "num_str = input(\"Enter a number as a string: \")\n",
        "num_int = int(num_str)\n",
        "print(\"Integer value:\", num_int)\n",
        "# String to float\n",
        "num_float = float(num_str)\n",
        "print(\"Float value:\", num_float)\n",
        "# String to boolean\n",
        "num_bool = bool(num_str)\n",
        "print(\"Boolean value:\", num_bool)\n"
      ],
      "metadata": {
        "id": "M2qJI3MPPvcr"
      },
      "execution_count": null,
      "outputs": []
    },
    {
      "cell_type": "markdown",
      "source": [
        "10. Write code to demonstrate type casting with list elements."
      ],
      "metadata": {
        "id": "G95t9yTvRVG3"
      }
    },
    {
      "cell_type": "code",
      "source": [
        "string_list = [\"10\", \"20\", \"30\", \"40\", \"50\"]\n",
        "\n",
        "# Convert each string element to integer\n",
        "int_list = [int(element) for element in string_list\n",
        "            print(\"Integer list:\", int_list)\n",
        "#Convert interger elements to float\n",
        "            float_list = [float(element) for element in int_list]\n",
        "            print(\"Float list:\", float_list)"
      ],
      "metadata": {
        "id": "CE-sv10qRdGQ"
      },
      "execution_count": null,
      "outputs": []
    },
    {
      "cell_type": "markdown",
      "source": [
        "11. Write a program that checks if a number is positive, negative, or zero."
      ],
      "metadata": {
        "id": "PZ7_pwuSaQcK"
      }
    },
    {
      "cell_type": "code",
      "source": [
        "#Get input from the user\n",
        "num = float(input(\"Enter a number: \"))\n",
        "\n",
        "#Check if the number is positive, negative, or zero\n",
        "print(\"Number is positive.\" if num > 0 else \"Number is negative.\" if num < 0 else \"Number is zero.\")"
      ],
      "metadata": {
        "id": "AAFMxF-ja4Ln"
      },
      "execution_count": null,
      "outputs": []
    },
    {
      "cell_type": "markdown",
      "source": [
        "12. Write a for loop to print numbers from 1 to 10."
      ],
      "metadata": {
        "id": "BkXUHBz6bCVJ"
      }
    },
    {
      "cell_type": "code",
      "source": [
        "# A for loop to print numbers from 1 to 10\n",
        "for num in range(1, 11):\n",
        "  print(num)"
      ],
      "metadata": {
        "colab": {
          "base_uri": "https://localhost:8080/"
        },
        "id": "HEg9O60ubHwy",
        "outputId": "f62ce6a5-6f0c-4cf2-91b6-c45ae3ce0ae8"
      },
      "execution_count": 22,
      "outputs": [
        {
          "output_type": "stream",
          "name": "stdout",
          "text": [
            "1\n",
            "2\n",
            "3\n",
            "4\n",
            "5\n",
            "6\n",
            "7\n",
            "8\n",
            "9\n",
            "10\n"
          ]
        }
      ]
    },
    {
      "cell_type": "markdown",
      "source": [
        "13. Write a Python program to find the sum of all even numbers between 1 and 50."
      ],
      "metadata": {
        "id": "pFttx4NlboNe"
      }
    },
    {
      "cell_type": "code",
      "source": [
        "# loop through numbers from 1 to 50\n",
        "sum_even = 0\n",
        "for num in range(1, 51):\n",
        "  # Check if the number is even\n",
        "  if num % 2 == 0:\n",
        "    # Add the even number to the sum\n",
        "    sum_even += num\n"
      ],
      "metadata": {
        "id": "_TUm50vmbtlP"
      },
      "execution_count": null,
      "outputs": []
    },
    {
      "cell_type": "markdown",
      "source": [
        "14. Write a program to reverse a string using a while loop."
      ],
      "metadata": {
        "id": "iyyUI1yRccDl"
      }
    },
    {
      "cell_type": "code",
      "source": [
        "# Get input from the user\n",
        "string = input(\"Enter a string: \")\n",
        "\n",
        "# Initialize variables\n",
        "reversed_string = \"\"\n",
        "index = len(string) - 1\n",
        "\n",
        "# Use a while loop to reverse the string\n",
        "while index >= 0:\n",
        "  reversed_string += string[index]\n",
        "  index -= 1\n",
        "  print(\"Reversed string:\", reversed_string)"
      ],
      "metadata": {
        "id": "qMAbAV6gcgjN"
      },
      "execution_count": null,
      "outputs": []
    },
    {
      "cell_type": "markdown",
      "source": [
        "15. Write a Python program to calculate the factorial of a number provided by the user using a while loop."
      ],
      "metadata": {
        "id": "oGiDaaeGdQ5E"
      }
    },
    {
      "cell_type": "code",
      "source": [
        "# Get input from the user\n",
        "num = int(input(\"Enter a number: \"))\n",
        "\n",
        "# Initialize variables\n",
        "factorial = 1\n",
        "current_number = 1\n",
        "\n",
        "# Use a while loop to calculate the factorial\n",
        "while current_number <= num:\n",
        "  factorial *= current_number\n",
        "  current_number += 1\n",
        "  print(\"Factorial:\", factorial)"
      ],
      "metadata": {
        "id": "kFZ_PaL4dWY0"
      },
      "execution_count": null,
      "outputs": []
    }
  ]
}